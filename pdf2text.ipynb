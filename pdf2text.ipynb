{
 "cells": [
  {
   "cell_type": "code",
   "execution_count": 2,
   "id": "d91d6873",
   "metadata": {},
   "outputs": [],
   "source": [
    "import os\n",
    "from azure.core.credentials import AzureKeyCredential\n",
    "from azure.ai.documentintelligence import DocumentIntelligenceClient\n",
    "\n",
    "from dotenv import load_dotenv\n",
    "\n",
    "load_dotenv()\n",
    "\n",
    "endpoint = os.getenv(\"AZURE_DOCUMENT_INTELLIGENCE_ENDPOINT\")\n",
    "api_key = os.getenv(\"AZURE_DOCUMENT_INTELLIGENCE_API_KEY\")\n",
    "\n",
    "client = DocumentIntelligenceClient(endpoint, AzureKeyCredential(api_key))\n",
    "file_path = \"./Azure AI Foundry における Azure OpenAI モデル - Azure OpenAI _ Microsoft Learn.pdf\"\n",
    "\n",
    "with open(file_path, \"rb\") as f:\n",
    "    poller = client.begin_analyze_document(\n",
    "        \"prebuilt-layout\",\n",
    "        body=f,\n",
    "        content_type=\"application/octet-stream\",\n",
    "        output_content_format=\"MARKDOWN\",\n",
    "    )\n",
    "result = poller.result()"
   ]
  },
  {
   "cell_type": "code",
   "execution_count": 3,
   "id": "eefc5686",
   "metadata": {},
   "outputs": [],
   "source": [
    "result_markdown = result.content\n",
    "base_name = os.path.splitext(os.path.basename(file_path))[0]\n",
    "_file_path = f\"./ragtest/input/{base_name}.txt\"\n",
    "\n",
    "with open(_file_path, \"w\", encoding=\"utf-8\") as f:\n",
    "    f.write(result_markdown)"
   ]
  },
  {
   "cell_type": "code",
   "execution_count": null,
   "id": "97d37257",
   "metadata": {},
   "outputs": [],
   "source": []
  }
 ],
 "metadata": {
  "kernelspec": {
   "display_name": ".venv",
   "language": "python",
   "name": "python3"
  },
  "language_info": {
   "codemirror_mode": {
    "name": "ipython",
    "version": 3
   },
   "file_extension": ".py",
   "mimetype": "text/x-python",
   "name": "python",
   "nbconvert_exporter": "python",
   "pygments_lexer": "ipython3",
   "version": "3.10.6"
  }
 },
 "nbformat": 4,
 "nbformat_minor": 5
}
